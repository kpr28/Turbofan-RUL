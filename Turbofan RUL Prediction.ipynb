{
 "cells": [
  {
   "cell_type": "markdown",
   "metadata": {},
   "source": [
    "# Prediction of Remaining Useful Lifetime (RUL) of turbofan engine using Random Forests"
   ]
  },
  {
   "cell_type": "markdown",
   "metadata": {},
   "source": [
    "# Dataset\n",
    "\n",
    "**Experimental Scenario**\n",
    "\n",
    "Data sets consists of multiple multivariate time series. Each data set is further divided into training and test subsets. Each time series is from a different engine ñ i.e., the data can be considered to be from a fleet of engines of the same type. Each engine starts with different degrees of initial wear and manufacturing variation which is unknown to the user. This wear and variation is considered normal, i.e., it is not considered a fault condition. There are three operational settings that have a substantial effect on engine performance. These settings are also included in the data. The data is contaminated with sensor noise.\n",
    "\n",
    "The engine is operating normally at the start of each time series, and develops a fault at some point during the series. In the training set, the fault grows in magnitude until system failure. In the test set, the time series ends some time prior to system failure. The objective of the competition is to predict the number of remaining operational cycles before failure in the test set, i.e., the number of operational cycles after the last cycle that the engine will continue to operate. Also provided a vector of true Remaining Useful Life (RUL) values for the test data.\n",
    "The data are provided as a zip-compressed text file with 26 columns of numbers, separated by spaces. Each row is a snapshot of data taken during a single operational cycle, each column is a different variable. The columns correspond to:\n",
    "\n",
    "1. unit number\n",
    "2. time, in cycles\n",
    "3. operational setting 1\n",
    "4. operational setting 2\n",
    "5. operational setting 3\n",
    "6. sensor measurement  1\n",
    "7. sensor measurement  2\n",
    "* ...\n",
    "26. sensor measurement  26\n",
    "\n",
    "\n",
    "**Reference:**  A. Saxena, K. Goebel, D. Simon, and N. Eklund, ìDamage Propagation Modeling for Aircraft Engine Run-to-Failure Simulationî, in the Proceedings of the Ist International Conference on Prognostics and Health Management (PHM08), Denver CO, Oct 2008."
   ]
  },
  {
   "cell_type": "code",
   "execution_count": 1,
   "metadata": {},
   "outputs": [],
   "source": [
    "%load_ext autoreload\n",
    "%autoreload 2\n",
    "\n",
    "%matplotlib inline"
   ]
  },
  {
   "cell_type": "markdown",
   "metadata": {},
   "source": [
    "# Import required libraries"
   ]
  },
  {
   "cell_type": "code",
   "execution_count": 2,
   "metadata": {},
   "outputs": [],
   "source": [
    "import fastai\n",
    "import pandas as pd\n",
    "from matplotlib import pyplot as plt\n",
    "import numpy as np\n",
    "from sklearn.preprocessing import MinMaxScaler\n",
    "import random\n",
    "from fastai.imports import *\n",
    "from sklearn.ensemble import RandomForestRegressor, RandomForestClassifier\n",
    "from IPython.display import display\n",
    "from sklearn import metrics\n",
    "from structured import * "
   ]
  },
  {
   "cell_type": "markdown",
   "metadata": {},
   "source": [
    "# Useful Functions"
   ]
  },
  {
   "cell_type": "code",
   "execution_count": 3,
   "metadata": {},
   "outputs": [],
   "source": [
    "# Explore dataframe\n",
    "def exploreData (data):\n",
    "    \n",
    "    print(\"Data Set Dimensions : {}\".format(data.shape))\n",
    "    \n",
    "    #print (\"\\n\")\n",
    "    \n",
    "    #print (\"Data Sample (First 2 rows) : \")\n",
    "    #print (data.head(2).T)\n",
    "    \n",
    "    print (\"\\n\")\n",
    "    print (\"Data Set Type :\")\n",
    "    print(\"{}\".format(data.dtypes))\n",
    "    \n",
    "    print (\"\\n\")\n",
    "    print (\"Null Data :\")\n",
    "    print (data.isnull().sum())\n",
    "    print (\"\\n\")\n",
    "    print (\"Missing Data :\")\n",
    "    print (data.isna().sum())"
   ]
  },
  {
   "cell_type": "code",
   "execution_count": 4,
   "metadata": {},
   "outputs": [],
   "source": [
    "MAXLIFE = 120\n",
    "SCALE = 1\n",
    "RESCALE = 1\n",
    "true_rul = []\n",
    "test_engine_id = 0\n",
    "training_engine_id = 0\n",
    "\n",
    "def kink_RUL(cycle_list, max_cycle):\n",
    "    \n",
    "    knee_point = max_cycle - MAXLIFE\n",
    "    kink_RUL = []\n",
    "    stable_life = MAXLIFE\n",
    "    for i in range(0, len(cycle_list)):\n",
    "        if i < knee_point:\n",
    "            kink_RUL.append(MAXLIFE)\n",
    "        else:\n",
    "            tmp = kink_RUL[i - 1] - (stable_life / (max_cycle - knee_point))\n",
    "            kink_RUL.append(tmp)\n",
    "\n",
    "    # Returns the RUL for all 100 engines (FD001)\n",
    "    return kink_RUL\n",
    "\n",
    "def compute_rul_of_one_file(FD00X, id='engine_id', RUL_FD00X=None):\n",
    "    '''\n",
    "    Input train_FD001, output a list\n",
    "    '''\n",
    "    rul = []\n",
    "    \n",
    "    # In the loop train, each id value of the 'engine_id' column\n",
    "    if RUL_FD00X is None:\n",
    "        \n",
    "        \n",
    "        for _id in set(FD00X[id]):\n",
    "            rul.extend(compute_rul_of_one_id(FD00X[FD00X[id] == _id]))\n",
    "            \n",
    "        return rul\n",
    "    else:\n",
    "        rul = []\n",
    "        \n",
    "        for _id in set(FD00X[id]):\n",
    "            #print(\"#### id ####\", int(RUL_FD00X.iloc[_id - 1]))\n",
    "            true_rul.append(int(RUL_FD00X.iloc[_id - 1]))\n",
    "            rul.extend(compute_rul_of_one_id(FD00X[FD00X[id] == _id], int(RUL_FD00X.iloc[_id - 1])))\n",
    "        return rul\n",
    "\n",
    "def compute_rul_of_one_id(FD00X_of_one_id, max_cycle_rul=None):\n",
    "    '''\n",
    "    Enter the data of an engine_id of train_FD001 and output the corresponding RUL (remaining life) of these data.\n",
    "    type is list\n",
    "    '''\n",
    "\n",
    "    cycle_list = FD00X_of_one_id['cycle'].tolist()\n",
    "    if max_cycle_rul is None:\n",
    "        max_cycle = max(cycle_list)  # Failure cycle\n",
    "    else:\n",
    "        max_cycle = max(cycle_list) + max_cycle_rul\n",
    "        # print(max(cycle_list), max_cycle_rul)\n",
    "\n",
    "    # return kink_RUL(cycle_list,max_cycle)\n",
    "    return kink_RUL(cycle_list, max_cycle)\n",
    "\n",
    "\n",
    "\n",
    "def get_CMAPSSData(min_max_norm=False):\n",
    "    '''\n",
    "    :param min_max_norm: switch to enable min-max normalization\n",
    "    :return: function will save the preprocessed training and testing data. \n",
    "    '''\n",
    "\n",
    "    column_name = ['engine_id', 'cycle', 'setting1', 'setting2', 'setting3', 's1', 's2', 's3',\n",
    "                   's4', 's5', 's6', 's7', 's8', 's9', 's10', 's11', 's12', 's13', 's14',\n",
    "                   's15', 's16', 's17', 's18', 's19', 's20', 's21']\n",
    "\n",
    "    files=[1, 2, 3, 4]\n",
    "    PATH = \"../../dataset/turbofan/CMAPSSData\"\n",
    "    train_FD001 = pd.read_table(f\"{PATH}/train_FD001.txt\", header=None, delim_whitespace=True)\n",
    "    train_FD002 = pd.read_table(f\"{PATH}/train_FD002.txt\", header=None, delim_whitespace=True)\n",
    "    train_FD003 = pd.read_table(f\"{PATH}/train_FD003.txt\", header=None, delim_whitespace=True)\n",
    "    train_FD004 = pd.read_table(f\"{PATH}/train_FD004.txt\", header=None, delim_whitespace=True)\n",
    "    train_FD001.columns = column_name\n",
    "    train_FD002.columns = column_name\n",
    "    train_FD003.columns = column_name\n",
    "    train_FD004.columns = column_name\n",
    "\n",
    "    previous_len = 0\n",
    "    frames = []\n",
    "    for data_file in ['train_FD00' + str(i) for i in files]:  # load subdataset by subdataset\n",
    "\n",
    "        #### standard normalization ####\n",
    "        mean = eval(data_file).iloc[:, 2:len(list(eval(data_file)))].mean()\n",
    "        std = eval(data_file).iloc[:, 2:len(list(eval(data_file)))].std()\n",
    "        std.replace(0, 1, inplace=True)\n",
    "        # print(\"std\", std)\n",
    "        ################################\n",
    "\n",
    "        if min_max_norm:\n",
    "            scaler = MinMaxScaler()\n",
    "            eval(data_file).iloc[:, 2:len(list(eval(data_file)))] = scaler.fit_transform(\n",
    "                eval(data_file).iloc[:, 2:len(list(eval(data_file)))])\n",
    "        else:\n",
    "            eval(data_file).iloc[:, 2:len(list(eval(data_file)))] = (eval(data_file).iloc[:, 2:len(\n",
    "                list(eval(data_file)))] - mean) / std\n",
    "\n",
    "        eval(data_file)['RUL'] = compute_rul_of_one_file(eval(data_file))\n",
    "        current_len = len(eval(data_file))\n",
    "        print(eval(data_file).index)\n",
    "        eval(data_file).index = range(previous_len, previous_len + current_len)\n",
    "        previous_len = previous_len + current_len\n",
    "        print(eval(data_file).index)\n",
    "        frames.append(eval(data_file))\n",
    "        print(data_file)\n",
    "\n",
    "    train = pd.concat(frames)\n",
    "    global training_engine_id\n",
    "    training_engine_id = train['engine_id']\n",
    "    train = train.drop('engine_id', 1)\n",
    "    train = train.drop('cycle', 1)\n",
    "      \n",
    "\n",
    "    #train_values = train.values * SCALE\n",
    "    \n",
    "    #train_values = train.values * SCALE\n",
    "    #np.save('normalized_train_data.npy', train_values)\n",
    "    #train.to_csv('normalized_train_data.csv')\n",
    "    ###########      \n",
    "\n",
    "    test_FD001 = pd.read_table(f\"{PATH}/test_FD001.txt\", header=None, delim_whitespace=True)\n",
    "    test_FD002 = pd.read_table(f\"{PATH}/test_FD002.txt\", header=None, delim_whitespace=True)\n",
    "    test_FD003 = pd.read_table(f\"{PATH}/test_FD003.txt\", header=None, delim_whitespace=True)\n",
    "    test_FD004 = pd.read_table(f\"{PATH}/test_FD004.txt\", header=None, delim_whitespace=True)\n",
    "    test_FD001.columns = column_name\n",
    "    test_FD002.columns = column_name\n",
    "    test_FD003.columns = column_name\n",
    "    test_FD004.columns = column_name\n",
    "\n",
    "    # load RUL data\n",
    "    RUL_FD001 = pd.read_table(f\"{PATH}/RUL_FD001.txt\", header=None, delim_whitespace=True)\n",
    "    RUL_FD002 = pd.read_table(f\"{PATH}/RUL_FD002.txt\", header=None, delim_whitespace=True)\n",
    "    RUL_FD003 = pd.read_table(f\"{PATH}/RUL_FD003.txt\", header=None, delim_whitespace=True)\n",
    "    RUL_FD004 = pd.read_table(f\"{PATH}/RUL_FD004.txt\", header=None, delim_whitespace=True)\n",
    "    RUL_FD001.columns = ['RUL']\n",
    "    RUL_FD002.columns = ['RUL']\n",
    "    RUL_FD003.columns = ['RUL']\n",
    "    RUL_FD004.columns = ['RUL']\n",
    "\n",
    "    previous_len = 0\n",
    "    frames = []\n",
    "    for (data_file, rul_file) in [('test_FD00' + str(i), 'RUL_FD00' + str(i)) for i in files]:\n",
    "        mean = eval(data_file).iloc[:, 2:len(list(eval(data_file)))].mean()\n",
    "        std = eval(data_file).iloc[:, 2:len(list(eval(data_file)))].std()\n",
    "        std.replace(0, 1, inplace=True)\n",
    "\n",
    "        if min_max_norm:\n",
    "            scaler = MinMaxScaler()\n",
    "            eval(data_file).iloc[:, 2:len(list(eval(data_file)))] = scaler.fit_transform(\n",
    "                eval(data_file).iloc[:, 2:len(list(eval(data_file)))])\n",
    "        else:\n",
    "            eval(data_file).iloc[:, 2:len(list(eval(data_file)))] = (eval(data_file).iloc[:, 2:len(\n",
    "                list(eval(data_file)))] - mean) / std\n",
    "\n",
    "        eval(data_file)['RUL'] = compute_rul_of_one_file(eval(data_file), RUL_FD00X=eval(rul_file))\n",
    "        current_len = len(eval(data_file))\n",
    "        eval(data_file).index = range(previous_len, previous_len + current_len)\n",
    "        previous_len = previous_len + current_len\n",
    "        frames.append(eval(data_file))\n",
    "        print(data_file)\n",
    "        if len(files) == 1:\n",
    "            global test_engine_id\n",
    "            test_engine_id = eval(data_file)['engine_id']\n",
    "\n",
    "    test = pd.concat(frames)\n",
    "    test = test.drop('engine_id', 1)\n",
    "    test = test.drop('cycle', 1)\n",
    "        \n",
    "\n",
    "    \n",
    "    #test_values = test.values * SCALE\n",
    "    #np.save('normalized_test_data.npy', test_values)\n",
    "    #test.to_csv('normalized_test_data.csv')\n",
    "    ###########\n",
    "    \n",
    "\n",
    "    return train, test"
   ]
  },
  {
   "cell_type": "markdown",
   "metadata": {},
   "source": [
    "# Load data\n",
    "* The imput data is in the form of 4 .txt files.\n",
    "* The .txt files are combined into a training and testing set.\n",
    "* An additional column for the dependent variable (RUL) is added."
   ]
  },
  {
   "cell_type": "code",
   "execution_count": 5,
   "metadata": {},
   "outputs": [
    {
     "name": "stdout",
     "output_type": "stream",
     "text": [
      "RangeIndex(start=0, stop=20631, step=1)\n",
      "RangeIndex(start=0, stop=20631, step=1)\n",
      "train_FD001\n",
      "RangeIndex(start=0, stop=53759, step=1)\n",
      "RangeIndex(start=20631, stop=74390, step=1)\n",
      "train_FD002\n",
      "RangeIndex(start=0, stop=24720, step=1)\n",
      "RangeIndex(start=74390, stop=99110, step=1)\n",
      "train_FD003\n",
      "RangeIndex(start=0, stop=61249, step=1)\n",
      "RangeIndex(start=99110, stop=160359, step=1)\n",
      "train_FD004\n",
      "test_FD001\n",
      "test_FD002\n",
      "test_FD003\n",
      "test_FD004\n"
     ]
    }
   ],
   "source": [
    "min_max = False\n",
    "train, test = get_CMAPSSData(min_max_norm=min_max)"
   ]
  },
  {
   "cell_type": "code",
   "execution_count": 6,
   "metadata": {},
   "outputs": [
    {
     "name": "stdout",
     "output_type": "stream",
     "text": [
      "<class 'pandas.core.frame.DataFrame'>\n",
      "<class 'pandas.core.frame.DataFrame'>\n"
     ]
    }
   ],
   "source": [
    "print (type(train))\n",
    "print (type(test))\n"
   ]
  },
  {
   "cell_type": "code",
   "execution_count": 7,
   "metadata": {},
   "outputs": [
    {
     "data": {
      "text/html": [
       "<div>\n",
       "<style scoped>\n",
       "    .dataframe tbody tr th:only-of-type {\n",
       "        vertical-align: middle;\n",
       "    }\n",
       "\n",
       "    .dataframe tbody tr th {\n",
       "        vertical-align: top;\n",
       "    }\n",
       "\n",
       "    .dataframe thead th {\n",
       "        text-align: right;\n",
       "    }\n",
       "</style>\n",
       "<table border=\"1\" class=\"dataframe\">\n",
       "  <thead>\n",
       "    <tr style=\"text-align: right;\">\n",
       "      <th></th>\n",
       "      <th>setting1</th>\n",
       "      <th>setting2</th>\n",
       "      <th>setting3</th>\n",
       "      <th>s1</th>\n",
       "      <th>s2</th>\n",
       "      <th>s3</th>\n",
       "      <th>s4</th>\n",
       "      <th>s5</th>\n",
       "      <th>s6</th>\n",
       "      <th>s7</th>\n",
       "      <th>...</th>\n",
       "      <th>s13</th>\n",
       "      <th>s14</th>\n",
       "      <th>s15</th>\n",
       "      <th>s16</th>\n",
       "      <th>s17</th>\n",
       "      <th>s18</th>\n",
       "      <th>s19</th>\n",
       "      <th>s20</th>\n",
       "      <th>s21</th>\n",
       "      <th>RUL</th>\n",
       "    </tr>\n",
       "  </thead>\n",
       "  <tbody>\n",
       "    <tr>\n",
       "      <th>0</th>\n",
       "      <td>-0.315972</td>\n",
       "      <td>-1.372920</td>\n",
       "      <td>0.0</td>\n",
       "      <td>0.999976</td>\n",
       "      <td>-1.721684</td>\n",
       "      <td>-0.134252</td>\n",
       "      <td>-0.925914</td>\n",
       "      <td>0.999976</td>\n",
       "      <td>0.14168</td>\n",
       "      <td>1.121113</td>\n",
       "      <td>...</td>\n",
       "      <td>-1.058865</td>\n",
       "      <td>-0.269065</td>\n",
       "      <td>-0.603801</td>\n",
       "      <td>0.999976</td>\n",
       "      <td>-0.781691</td>\n",
       "      <td>0.0</td>\n",
       "      <td>0.0</td>\n",
       "      <td>1.348460</td>\n",
       "      <td>1.194398</td>\n",
       "      <td>120.0</td>\n",
       "    </tr>\n",
       "    <tr>\n",
       "      <th>1</th>\n",
       "      <td>0.872701</td>\n",
       "      <td>-1.031695</td>\n",
       "      <td>0.0</td>\n",
       "      <td>0.999976</td>\n",
       "      <td>-1.061754</td>\n",
       "      <td>0.211523</td>\n",
       "      <td>-0.643710</td>\n",
       "      <td>0.999976</td>\n",
       "      <td>0.14168</td>\n",
       "      <td>0.431920</td>\n",
       "      <td>...</td>\n",
       "      <td>-0.363637</td>\n",
       "      <td>-0.642829</td>\n",
       "      <td>-0.275845</td>\n",
       "      <td>0.999976</td>\n",
       "      <td>-0.781691</td>\n",
       "      <td>0.0</td>\n",
       "      <td>0.0</td>\n",
       "      <td>1.016503</td>\n",
       "      <td>1.236892</td>\n",
       "      <td>120.0</td>\n",
       "    </tr>\n",
       "    <tr>\n",
       "      <th>2</th>\n",
       "      <td>-1.961827</td>\n",
       "      <td>1.015652</td>\n",
       "      <td>0.0</td>\n",
       "      <td>0.999976</td>\n",
       "      <td>-0.661797</td>\n",
       "      <td>-0.413156</td>\n",
       "      <td>-0.525940</td>\n",
       "      <td>0.999976</td>\n",
       "      <td>0.14168</td>\n",
       "      <td>1.008131</td>\n",
       "      <td>...</td>\n",
       "      <td>-0.919819</td>\n",
       "      <td>-0.551616</td>\n",
       "      <td>-0.649128</td>\n",
       "      <td>0.999976</td>\n",
       "      <td>-2.073044</td>\n",
       "      <td>0.0</td>\n",
       "      <td>0.0</td>\n",
       "      <td>0.739873</td>\n",
       "      <td>0.503411</td>\n",
       "      <td>120.0</td>\n",
       "    </tr>\n",
       "    <tr>\n",
       "      <th>3</th>\n",
       "      <td>0.324083</td>\n",
       "      <td>-0.008022</td>\n",
       "      <td>0.0</td>\n",
       "      <td>0.999976</td>\n",
       "      <td>-0.661797</td>\n",
       "      <td>-1.261284</td>\n",
       "      <td>-0.784812</td>\n",
       "      <td>0.999976</td>\n",
       "      <td>0.14168</td>\n",
       "      <td>1.222798</td>\n",
       "      <td>...</td>\n",
       "      <td>-0.224592</td>\n",
       "      <td>-0.520163</td>\n",
       "      <td>-1.971617</td>\n",
       "      <td>0.999976</td>\n",
       "      <td>-0.781691</td>\n",
       "      <td>0.0</td>\n",
       "      <td>0.0</td>\n",
       "      <td>0.352590</td>\n",
       "      <td>0.777773</td>\n",
       "      <td>120.0</td>\n",
       "    </tr>\n",
       "    <tr>\n",
       "      <th>4</th>\n",
       "      <td>-0.864590</td>\n",
       "      <td>-0.690471</td>\n",
       "      <td>0.0</td>\n",
       "      <td>0.999976</td>\n",
       "      <td>-0.621801</td>\n",
       "      <td>-1.251498</td>\n",
       "      <td>-0.301511</td>\n",
       "      <td>0.999976</td>\n",
       "      <td>0.14168</td>\n",
       "      <td>0.714376</td>\n",
       "      <td>...</td>\n",
       "      <td>-0.780774</td>\n",
       "      <td>-0.521736</td>\n",
       "      <td>-0.339837</td>\n",
       "      <td>0.999976</td>\n",
       "      <td>-0.136014</td>\n",
       "      <td>0.0</td>\n",
       "      <td>0.0</td>\n",
       "      <td>0.463242</td>\n",
       "      <td>1.059526</td>\n",
       "      <td>120.0</td>\n",
       "    </tr>\n",
       "  </tbody>\n",
       "</table>\n",
       "<p>5 rows × 25 columns</p>\n",
       "</div>"
      ],
      "text/plain": [
       "   setting1  setting2  setting3        s1        s2        s3        s4  \\\n",
       "0 -0.315972 -1.372920       0.0  0.999976 -1.721684 -0.134252 -0.925914   \n",
       "1  0.872701 -1.031695       0.0  0.999976 -1.061754  0.211523 -0.643710   \n",
       "2 -1.961827  1.015652       0.0  0.999976 -0.661797 -0.413156 -0.525940   \n",
       "3  0.324083 -0.008022       0.0  0.999976 -0.661797 -1.261284 -0.784812   \n",
       "4 -0.864590 -0.690471       0.0  0.999976 -0.621801 -1.251498 -0.301511   \n",
       "\n",
       "         s5       s6        s7  ...         s13       s14       s15       s16  \\\n",
       "0  0.999976  0.14168  1.121113  ...   -1.058865 -0.269065 -0.603801  0.999976   \n",
       "1  0.999976  0.14168  0.431920  ...   -0.363637 -0.642829 -0.275845  0.999976   \n",
       "2  0.999976  0.14168  1.008131  ...   -0.919819 -0.551616 -0.649128  0.999976   \n",
       "3  0.999976  0.14168  1.222798  ...   -0.224592 -0.520163 -1.971617  0.999976   \n",
       "4  0.999976  0.14168  0.714376  ...   -0.780774 -0.521736 -0.339837  0.999976   \n",
       "\n",
       "        s17  s18  s19       s20       s21    RUL  \n",
       "0 -0.781691  0.0  0.0  1.348460  1.194398  120.0  \n",
       "1 -0.781691  0.0  0.0  1.016503  1.236892  120.0  \n",
       "2 -2.073044  0.0  0.0  0.739873  0.503411  120.0  \n",
       "3 -0.781691  0.0  0.0  0.352590  0.777773  120.0  \n",
       "4 -0.136014  0.0  0.0  0.463242  1.059526  120.0  \n",
       "\n",
       "[5 rows x 25 columns]"
      ]
     },
     "execution_count": 7,
     "metadata": {},
     "output_type": "execute_result"
    }
   ],
   "source": [
    "train.head()"
   ]
  },
  {
   "cell_type": "code",
   "execution_count": 8,
   "metadata": {},
   "outputs": [
    {
     "name": "stdout",
     "output_type": "stream",
     "text": [
      "Data Set Dimensions : (160359, 25)\n",
      "\n",
      "\n",
      "Data Set Type :\n",
      "setting1    float64\n",
      "setting2    float64\n",
      "setting3    float64\n",
      "s1          float64\n",
      "s2          float64\n",
      "s3          float64\n",
      "s4          float64\n",
      "s5          float64\n",
      "s6          float64\n",
      "s7          float64\n",
      "s8          float64\n",
      "s9          float64\n",
      "s10         float64\n",
      "s11         float64\n",
      "s12         float64\n",
      "s13         float64\n",
      "s14         float64\n",
      "s15         float64\n",
      "s16         float64\n",
      "s17         float64\n",
      "s18         float64\n",
      "s19         float64\n",
      "s20         float64\n",
      "s21         float64\n",
      "RUL         float64\n",
      "dtype: object\n",
      "\n",
      "\n",
      "Null Data :\n",
      "setting1    0\n",
      "setting2    0\n",
      "setting3    0\n",
      "s1          0\n",
      "s2          0\n",
      "s3          0\n",
      "s4          0\n",
      "s5          0\n",
      "s6          0\n",
      "s7          0\n",
      "s8          0\n",
      "s9          0\n",
      "s10         0\n",
      "s11         0\n",
      "s12         0\n",
      "s13         0\n",
      "s14         0\n",
      "s15         0\n",
      "s16         0\n",
      "s17         0\n",
      "s18         0\n",
      "s19         0\n",
      "s20         0\n",
      "s21         0\n",
      "RUL         0\n",
      "dtype: int64\n",
      "\n",
      "\n",
      "Missing Data :\n",
      "setting1    0\n",
      "setting2    0\n",
      "setting3    0\n",
      "s1          0\n",
      "s2          0\n",
      "s3          0\n",
      "s4          0\n",
      "s5          0\n",
      "s6          0\n",
      "s7          0\n",
      "s8          0\n",
      "s9          0\n",
      "s10         0\n",
      "s11         0\n",
      "s12         0\n",
      "s13         0\n",
      "s14         0\n",
      "s15         0\n",
      "s16         0\n",
      "s17         0\n",
      "s18         0\n",
      "s19         0\n",
      "s20         0\n",
      "s21         0\n",
      "RUL         0\n",
      "dtype: int64\n"
     ]
    }
   ],
   "source": [
    "exploreData(train)"
   ]
  },
  {
   "cell_type": "markdown",
   "metadata": {},
   "source": [
    "# Goal\n",
    " **Predict the Remaining Useful Life (RUL)**"
   ]
  },
  {
   "cell_type": "code",
   "execution_count": 9,
   "metadata": {},
   "outputs": [],
   "source": [
    "df, y, nas = proc_df(train, 'RUL')"
   ]
  },
  {
   "cell_type": "code",
   "execution_count": 10,
   "metadata": {},
   "outputs": [
    {
     "name": "stdout",
     "output_type": "stream",
     "text": [
      "<class 'pandas.core.frame.DataFrame'>\n",
      "<class 'numpy.ndarray'>\n"
     ]
    }
   ],
   "source": [
    "print (type(df))\n",
    "print (type(y))"
   ]
  },
  {
   "cell_type": "markdown",
   "metadata": {},
   "source": [
    "# Random Forests"
   ]
  },
  {
   "cell_type": "markdown",
   "metadata": {},
   "source": [
    "## Base Model\n",
    "* Split the training data into two:\n",
    "    * Training Data\n",
    "    * Validation Data\n",
    " (Done in order to avoid overfitting on the test set)   "
   ]
  },
  {
   "cell_type": "code",
   "execution_count": 12,
   "metadata": {},
   "outputs": [
    {
     "data": {
      "text/plain": [
       "((100359, 24), (100359,), (60000, 24))"
      ]
     },
     "execution_count": 12,
     "metadata": {},
     "output_type": "execute_result"
    }
   ],
   "source": [
    "def split_vals(a,n): return a[:n].copy(), a[n:].copy()\n",
    "\n",
    "n_valid = 60000  # Validation set size\n",
    "n_trn = len(df)-n_valid\n",
    "\n",
    "\n",
    "\n",
    "X_train, X_valid = split_vals(df, n_trn)\n",
    "y_train, y_valid = split_vals(y, n_trn)\n",
    "\n",
    "X_train.shape, y_train.shape, X_valid.shape"
   ]
  },
  {
   "cell_type": "markdown",
   "metadata": {},
   "source": [
    "## Define RMSE"
   ]
  },
  {
   "cell_type": "code",
   "execution_count": 13,
   "metadata": {},
   "outputs": [],
   "source": [
    "def rmse(x,y): return math.sqrt(((x-y)**2).mean())\n",
    "\n",
    "def print_score(m):\n",
    "    res = [rmse(m.predict(X_train), y_train), rmse(m.predict(X_valid), y_valid),\n",
    "                m.score(X_train, y_train), m.score(X_valid, y_valid)]\n",
    "    if hasattr(m, 'oob_score_'): res.append(m.oob_score_)\n",
    "    print(res)"
   ]
  },
  {
   "cell_type": "code",
   "execution_count": 14,
   "metadata": {},
   "outputs": [
    {
     "name": "stdout",
     "output_type": "stream",
     "text": [
      "CPU times: user 16.8 s, sys: 60.5 ms, total: 16.9 s\n",
      "Wall time: 3.01 s\n",
      "[7.741122382258519, 22.064501418190563, 0.961826143166342, 0.676012115261915]\n"
     ]
    }
   ],
   "source": [
    "m = RandomForestRegressor(n_jobs=-1)\n",
    "%time m.fit(X_train, y_train)\n",
    "print_score(m)"
   ]
  },
  {
   "cell_type": "markdown",
   "metadata": {},
   "source": [
    "# Single Tree"
   ]
  },
  {
   "cell_type": "code",
   "execution_count": 15,
   "metadata": {},
   "outputs": [
    {
     "name": "stdout",
     "output_type": "stream",
     "text": [
      "[29.167808632387143, 32.82056347226016, 0.45804181778172975, 0.2831428859895697]\n"
     ]
    }
   ],
   "source": [
    "m = RandomForestRegressor(n_estimators=1, max_depth=3, bootstrap=False, n_jobs=-1)\n",
    "m.fit(X_train, y_train)\n",
    "print_score(m)"
   ]
  },
  {
   "cell_type": "code",
   "execution_count": 16,
   "metadata": {},
   "outputs": [
    {
     "data": {
      "image/svg+xml": [
       "<?xml version=\"1.0\" encoding=\"UTF-8\" standalone=\"no\"?>\n",
       "<!DOCTYPE svg PUBLIC \"-//W3C//DTD SVG 1.1//EN\"\n",
       " \"http://www.w3.org/Graphics/SVG/1.1/DTD/svg11.dtd\">\n",
       "<!-- Generated by graphviz version 2.40.1 (20161225.0304)\n",
       " -->\n",
       "<!-- Title: Tree Pages: 1 -->\n",
       "<svg width=\"720pt\" height=\"434pt\"\n",
       " viewBox=\"0.00 0.00 720.00 434.49\" xmlns=\"http://www.w3.org/2000/svg\" xmlns:xlink=\"http://www.w3.org/1999/xlink\">\n",
       "<g id=\"graph0\" class=\"graph\" transform=\"scale(.7787 .7787) rotate(0) translate(4 554)\">\n",
       "<title>Tree</title>\n",
       "<polygon fill=\"#ffffff\" stroke=\"transparent\" points=\"-4,4 -4,-554 920.6667,-554 920.6667,4 -4,4\"/>\n",
       "<!-- 0 -->\n",
       "<g id=\"node1\" class=\"node\">\n",
       "<title>0</title>\n",
       "<polygon fill=\"#e58139\" fill-opacity=\"0.823529\" stroke=\"#000000\" points=\"138.1667,-336.5 45.1667,-336.5 45.1667,-268.5 138.1667,-268.5 138.1667,-336.5\"/>\n",
       "<text text-anchor=\"start\" x=\"66.6667\" y=\"-321.3\" font-family=\"Times,serif\" font-size=\"14.00\" fill=\"#000000\">s13 ≤ 0.419</text>\n",
       "<text text-anchor=\"start\" x=\"57.6667\" y=\"-306.3\" font-family=\"Times,serif\" font-size=\"14.00\" fill=\"#000000\">mse = 1569.791</text>\n",
       "<text text-anchor=\"start\" x=\"53.1667\" y=\"-291.3\" font-family=\"Times,serif\" font-size=\"14.00\" fill=\"#000000\">samples = 100359</text>\n",
       "<text text-anchor=\"start\" x=\"60.1667\" y=\"-276.3\" font-family=\"Times,serif\" font-size=\"14.00\" fill=\"#000000\">value = 86.434</text>\n",
       "</g>\n",
       "<!-- 1 -->\n",
       "<g id=\"node2\" class=\"node\">\n",
       "<title>1</title>\n",
       "<polygon fill=\"#e58139\" fill-opacity=\"0.952941\" stroke=\"#000000\" points=\"384.6667,-372.5 296.6667,-372.5 296.6667,-304.5 384.6667,-304.5 384.6667,-372.5\"/>\n",
       "<text text-anchor=\"start\" x=\"315.6667\" y=\"-357.3\" font-family=\"Times,serif\" font-size=\"14.00\" fill=\"#000000\">s14 ≤ 1.051</text>\n",
       "<text text-anchor=\"start\" x=\"306.6667\" y=\"-342.3\" font-family=\"Times,serif\" font-size=\"14.00\" fill=\"#000000\">mse = 1084.623</text>\n",
       "<text text-anchor=\"start\" x=\"304.6667\" y=\"-327.3\" font-family=\"Times,serif\" font-size=\"14.00\" fill=\"#000000\">samples = 78162</text>\n",
       "<text text-anchor=\"start\" x=\"309.1667\" y=\"-312.3\" font-family=\"Times,serif\" font-size=\"14.00\" fill=\"#000000\">value = 96.945</text>\n",
       "</g>\n",
       "<!-- 0&#45;&gt;1 -->\n",
       "<g id=\"edge1\" class=\"edge\">\n",
       "<title>0&#45;&gt;1</title>\n",
       "<path fill=\"none\" stroke=\"#000000\" d=\"M138.2096,-309.2291C180.2592,-315.3086 242.1615,-324.2583 286.4355,-330.6593\"/>\n",
       "<polygon fill=\"#000000\" stroke=\"#000000\" points=\"286.045,-334.1392 296.443,-332.1062 287.0467,-327.2112 286.045,-334.1392\"/>\n",
       "<text text-anchor=\"middle\" x=\"276.4177\" y=\"-343.3725\" font-family=\"Times,serif\" font-size=\"14.00\" fill=\"#000000\">True</text>\n",
       "</g>\n",
       "<!-- 8 -->\n",
       "<g id=\"node9\" class=\"node\">\n",
       "<title>8</title>\n",
       "<polygon fill=\"#e58139\" fill-opacity=\"0.372549\" stroke=\"#000000\" points=\"384.6667,-245.5 296.6667,-245.5 296.6667,-177.5 384.6667,-177.5 384.6667,-245.5\"/>\n",
       "<text text-anchor=\"start\" x=\"315.6667\" y=\"-230.3\" font-family=\"Times,serif\" font-size=\"14.00\" fill=\"#000000\">s11 ≤ 0.858</text>\n",
       "<text text-anchor=\"start\" x=\"306.6667\" y=\"-215.3\" font-family=\"Times,serif\" font-size=\"14.00\" fill=\"#000000\">mse = 1519.386</text>\n",
       "<text text-anchor=\"start\" x=\"304.6667\" y=\"-200.3\" font-family=\"Times,serif\" font-size=\"14.00\" fill=\"#000000\">samples = 22197</text>\n",
       "<text text-anchor=\"start\" x=\"309.1667\" y=\"-185.3\" font-family=\"Times,serif\" font-size=\"14.00\" fill=\"#000000\">value = 49.423</text>\n",
       "</g>\n",
       "<!-- 0&#45;&gt;8 -->\n",
       "<g id=\"edge8\" class=\"edge\">\n",
       "<title>0&#45;&gt;8</title>\n",
       "<path fill=\"none\" stroke=\"#000000\" d=\"M138.2096,-285.4903C180.4362,-270.0581 242.6831,-247.3092 286.9938,-231.1154\"/>\n",
       "<polygon fill=\"#000000\" stroke=\"#000000\" points=\"288.252,-234.3821 296.443,-227.6621 285.8491,-227.8074 288.252,-234.3821\"/>\n",
       "<text text-anchor=\"middle\" x=\"273.7714\" y=\"-213.4265\" font-family=\"Times,serif\" font-size=\"14.00\" fill=\"#000000\">False</text>\n",
       "</g>\n",
       "<!-- 2 -->\n",
       "<g id=\"node3\" class=\"node\">\n",
       "<title>2</title>\n",
       "<polygon fill=\"#e58139\" fill-opacity=\"0.976471\" stroke=\"#000000\" points=\"629.6667,-486.5 541.6667,-486.5 541.6667,-418.5 629.6667,-418.5 629.6667,-486.5\"/>\n",
       "<text text-anchor=\"start\" x=\"560.6667\" y=\"-471.3\" font-family=\"Times,serif\" font-size=\"14.00\" fill=\"#000000\">s15 ≤ 2.147</text>\n",
       "<text text-anchor=\"start\" x=\"554.1667\" y=\"-456.3\" font-family=\"Times,serif\" font-size=\"14.00\" fill=\"#000000\">mse = 972.562</text>\n",
       "<text text-anchor=\"start\" x=\"549.6667\" y=\"-441.3\" font-family=\"Times,serif\" font-size=\"14.00\" fill=\"#000000\">samples = 75381</text>\n",
       "<text text-anchor=\"start\" x=\"554.1667\" y=\"-426.3\" font-family=\"Times,serif\" font-size=\"14.00\" fill=\"#000000\">value = 99.108</text>\n",
       "</g>\n",
       "<!-- 1&#45;&gt;2 -->\n",
       "<g id=\"edge2\" class=\"edge\">\n",
       "<title>1&#45;&gt;2</title>\n",
       "<path fill=\"none\" stroke=\"#000000\" d=\"M384.7507,-359.0126C426.166,-378.2834 488.2111,-407.1533 532.3832,-427.7069\"/>\n",
       "<polygon fill=\"#000000\" stroke=\"#000000\" points=\"530.9808,-430.9146 541.524,-431.9601 533.934,-424.568 530.9808,-430.9146\"/>\n",
       "</g>\n",
       "<!-- 5 -->\n",
       "<g id=\"node6\" class=\"node\">\n",
       "<title>5</title>\n",
       "<polygon fill=\"#e58139\" fill-opacity=\"0.239216\" stroke=\"#000000\" points=\"626.6667,-372.5 544.6667,-372.5 544.6667,-304.5 626.6667,-304.5 626.6667,-372.5\"/>\n",
       "<text text-anchor=\"start\" x=\"563.6667\" y=\"-357.3\" font-family=\"Times,serif\" font-size=\"14.00\" fill=\"#000000\">s9 ≤ 1.705</text>\n",
       "<text text-anchor=\"start\" x=\"554.1667\" y=\"-342.3\" font-family=\"Times,serif\" font-size=\"14.00\" fill=\"#000000\">mse = 557.143</text>\n",
       "<text text-anchor=\"start\" x=\"552.6667\" y=\"-327.3\" font-family=\"Times,serif\" font-size=\"14.00\" fill=\"#000000\">samples = 2781</text>\n",
       "<text text-anchor=\"start\" x=\"554.1667\" y=\"-312.3\" font-family=\"Times,serif\" font-size=\"14.00\" fill=\"#000000\">value = 38.309</text>\n",
       "</g>\n",
       "<!-- 1&#45;&gt;5 -->\n",
       "<g id=\"edge5\" class=\"edge\">\n",
       "<title>1&#45;&gt;5</title>\n",
       "<path fill=\"none\" stroke=\"#000000\" d=\"M384.7507,-338.5C426.7123,-338.5 489.8513,-338.5 534.1216,-338.5\"/>\n",
       "<polygon fill=\"#000000\" stroke=\"#000000\" points=\"534.3845,-342.0001 544.3844,-338.5 534.3844,-335.0001 534.3845,-342.0001\"/>\n",
       "</g>\n",
       "<!-- 3 -->\n",
       "<g id=\"node4\" class=\"node\">\n",
       "<title>3</title>\n",
       "<polygon fill=\"#e58139\" stroke=\"#000000\" points=\"873.6667,-550 785.6667,-550 785.6667,-497 873.6667,-497 873.6667,-550\"/>\n",
       "<text text-anchor=\"start\" x=\"798.1667\" y=\"-534.8\" font-family=\"Times,serif\" font-size=\"14.00\" fill=\"#000000\">mse = 857.598</text>\n",
       "<text text-anchor=\"start\" x=\"793.6667\" y=\"-519.8\" font-family=\"Times,serif\" font-size=\"14.00\" fill=\"#000000\">samples = 73219</text>\n",
       "<text text-anchor=\"start\" x=\"795.1667\" y=\"-504.8\" font-family=\"Times,serif\" font-size=\"14.00\" fill=\"#000000\">value = 100.916</text>\n",
       "</g>\n",
       "<!-- 2&#45;&gt;3 -->\n",
       "<g id=\"edge3\" class=\"edge\">\n",
       "<title>2&#45;&gt;3</title>\n",
       "<path fill=\"none\" stroke=\"#000000\" d=\"M629.8532,-465.3576C670.8372,-477.2832 731.9287,-495.0599 775.7638,-507.8151\"/>\n",
       "<polygon fill=\"#000000\" stroke=\"#000000\" points=\"774.8176,-511.1849 785.3972,-510.6183 776.7734,-504.4637 774.8176,-511.1849\"/>\n",
       "</g>\n",
       "<!-- 4 -->\n",
       "<g id=\"node5\" class=\"node\">\n",
       "<title>4</title>\n",
       "<polygon fill=\"#e58139\" fill-opacity=\"0.231373\" stroke=\"#000000\" points=\"871.6667,-479 787.6667,-479 787.6667,-426 871.6667,-426 871.6667,-479\"/>\n",
       "<text text-anchor=\"start\" x=\"795.6667\" y=\"-463.8\" font-family=\"Times,serif\" font-size=\"14.00\" fill=\"#000000\">mse = 1006.835</text>\n",
       "<text text-anchor=\"start\" x=\"796.6667\" y=\"-448.8\" font-family=\"Times,serif\" font-size=\"14.00\" fill=\"#000000\">samples = 2162</text>\n",
       "<text text-anchor=\"start\" x=\"798.1667\" y=\"-433.8\" font-family=\"Times,serif\" font-size=\"14.00\" fill=\"#000000\">value = 37.883</text>\n",
       "</g>\n",
       "<!-- 2&#45;&gt;4 -->\n",
       "<g id=\"edge4\" class=\"edge\">\n",
       "<title>2&#45;&gt;4</title>\n",
       "<path fill=\"none\" stroke=\"#000000\" d=\"M629.8532,-452.5C671.3007,-452.5 733.3131,-452.5 777.2443,-452.5\"/>\n",
       "<polygon fill=\"#000000\" stroke=\"#000000\" points=\"777.4415,-456.0001 787.4415,-452.5 777.4415,-449.0001 777.4415,-456.0001\"/>\n",
       "</g>\n",
       "<!-- 6 -->\n",
       "<g id=\"node7\" class=\"node\">\n",
       "<title>6</title>\n",
       "<polygon fill=\"#e58139\" fill-opacity=\"0.427451\" stroke=\"#000000\" points=\"870.6667,-408 788.6667,-408 788.6667,-355 870.6667,-355 870.6667,-408\"/>\n",
       "<text text-anchor=\"start\" x=\"798.1667\" y=\"-392.8\" font-family=\"Times,serif\" font-size=\"14.00\" fill=\"#000000\">mse = 504.895</text>\n",
       "<text text-anchor=\"start\" x=\"796.6667\" y=\"-377.8\" font-family=\"Times,serif\" font-size=\"14.00\" fill=\"#000000\">samples = 1317</text>\n",
       "<text text-anchor=\"start\" x=\"798.1667\" y=\"-362.8\" font-family=\"Times,serif\" font-size=\"14.00\" fill=\"#000000\">value = 53.721</text>\n",
       "</g>\n",
       "<!-- 5&#45;&gt;6 -->\n",
       "<g id=\"edge6\" class=\"edge\">\n",
       "<title>5&#45;&gt;6</title>\n",
       "<path fill=\"none\" stroke=\"#000000\" d=\"M626.782,-345.7457C668.5764,-353.1111 733.4206,-364.5386 778.5099,-372.4847\"/>\n",
       "<polygon fill=\"#000000\" stroke=\"#000000\" points=\"777.927,-375.9358 788.3827,-374.2245 779.1419,-369.042 777.927,-375.9358\"/>\n",
       "</g>\n",
       "<!-- 7 -->\n",
       "<g id=\"node8\" class=\"node\">\n",
       "<title>7</title>\n",
       "<polygon fill=\"#e58139\" fill-opacity=\"0.070588\" stroke=\"#000000\" points=\"870.6667,-337 788.6667,-337 788.6667,-284 870.6667,-284 870.6667,-337\"/>\n",
       "<text text-anchor=\"start\" x=\"798.1667\" y=\"-321.8\" font-family=\"Times,serif\" font-size=\"14.00\" fill=\"#000000\">mse = 198.276</text>\n",
       "<text text-anchor=\"start\" x=\"796.6667\" y=\"-306.8\" font-family=\"Times,serif\" font-size=\"14.00\" fill=\"#000000\">samples = 1464</text>\n",
       "<text text-anchor=\"start\" x=\"798.1667\" y=\"-291.8\" font-family=\"Times,serif\" font-size=\"14.00\" fill=\"#000000\">value = 24.445</text>\n",
       "</g>\n",
       "<!-- 5&#45;&gt;7 -->\n",
       "<g id=\"edge7\" class=\"edge\">\n",
       "<title>5&#45;&gt;7</title>\n",
       "<path fill=\"none\" stroke=\"#000000\" d=\"M626.782,-333.7818C668.4886,-328.9958 733.1483,-321.5759 778.2255,-316.4031\"/>\n",
       "<polygon fill=\"#000000\" stroke=\"#000000\" points=\"778.847,-319.8548 788.3827,-315.2375 778.0489,-312.9005 778.847,-319.8548\"/>\n",
       "</g>\n",
       "<!-- 9 -->\n",
       "<g id=\"node10\" class=\"node\">\n",
       "<title>9</title>\n",
       "<polygon fill=\"#e58139\" fill-opacity=\"0.576471\" stroke=\"#000000\" points=\"629.6667,-245.5 541.6667,-245.5 541.6667,-177.5 629.6667,-177.5 629.6667,-245.5\"/>\n",
       "<text text-anchor=\"start\" x=\"561.6667\" y=\"-230.3\" font-family=\"Times,serif\" font-size=\"14.00\" fill=\"#000000\">s9 ≤ &#45;0.541</text>\n",
       "<text text-anchor=\"start\" x=\"551.6667\" y=\"-215.3\" font-family=\"Times,serif\" font-size=\"14.00\" fill=\"#000000\">mse = 1485.745</text>\n",
       "<text text-anchor=\"start\" x=\"549.6667\" y=\"-200.3\" font-family=\"Times,serif\" font-size=\"14.00\" fill=\"#000000\">samples = 13355</text>\n",
       "<text text-anchor=\"start\" x=\"554.1667\" y=\"-185.3\" font-family=\"Times,serif\" font-size=\"14.00\" fill=\"#000000\">value = 66.142</text>\n",
       "</g>\n",
       "<!-- 8&#45;&gt;9 -->\n",
       "<g id=\"edge9\" class=\"edge\">\n",
       "<title>8&#45;&gt;9</title>\n",
       "<path fill=\"none\" stroke=\"#000000\" d=\"M384.7507,-211.5C425.8195,-211.5 487.1741,-211.5 531.2706,-211.5\"/>\n",
       "<polygon fill=\"#000000\" stroke=\"#000000\" points=\"531.524,-215.0001 541.524,-211.5 531.5239,-208.0001 531.524,-215.0001\"/>\n",
       "</g>\n",
       "<!-- 12 -->\n",
       "<g id=\"node13\" class=\"node\">\n",
       "<title>12</title>\n",
       "<polygon fill=\"#e58139\" fill-opacity=\"0.066667\" stroke=\"#000000\" points=\"626.6667,-131.5 544.6667,-131.5 544.6667,-63.5 626.6667,-63.5 626.6667,-131.5\"/>\n",
       "<text text-anchor=\"start\" x=\"563.6667\" y=\"-116.3\" font-family=\"Times,serif\" font-size=\"14.00\" fill=\"#000000\">s4 ≤ 0.946</text>\n",
       "<text text-anchor=\"start\" x=\"557.1667\" y=\"-101.3\" font-family=\"Times,serif\" font-size=\"14.00\" fill=\"#000000\">mse = 510.39</text>\n",
       "<text text-anchor=\"start\" x=\"552.6667\" y=\"-86.3\" font-family=\"Times,serif\" font-size=\"14.00\" fill=\"#000000\">samples = 8842</text>\n",
       "<text text-anchor=\"start\" x=\"554.1667\" y=\"-71.3\" font-family=\"Times,serif\" font-size=\"14.00\" fill=\"#000000\">value = 24.172</text>\n",
       "</g>\n",
       "<!-- 8&#45;&gt;12 -->\n",
       "<g id=\"edge12\" class=\"edge\">\n",
       "<title>8&#45;&gt;12</title>\n",
       "<path fill=\"none\" stroke=\"#000000\" d=\"M384.7507,-190.9874C427.0664,-171.2977 490.9184,-141.5869 535.2383,-120.9646\"/>\n",
       "<polygon fill=\"#000000\" stroke=\"#000000\" points=\"536.7944,-124.101 544.3844,-116.7089 533.8413,-117.7544 536.7944,-124.101\"/>\n",
       "</g>\n",
       "<!-- 10 -->\n",
       "<g id=\"node11\" class=\"node\">\n",
       "<title>10</title>\n",
       "<polygon fill=\"#e58139\" fill-opacity=\"0.941176\" stroke=\"#000000\" points=\"870.6667,-266 788.6667,-266 788.6667,-213 870.6667,-213 870.6667,-266\"/>\n",
       "<text text-anchor=\"start\" x=\"798.1667\" y=\"-250.8\" font-family=\"Times,serif\" font-size=\"14.00\" fill=\"#000000\">mse = 905.586</text>\n",
       "<text text-anchor=\"start\" x=\"796.6667\" y=\"-235.8\" font-family=\"Times,serif\" font-size=\"14.00\" fill=\"#000000\">samples = 3227</text>\n",
       "<text text-anchor=\"start\" x=\"798.1667\" y=\"-220.8\" font-family=\"Times,serif\" font-size=\"14.00\" fill=\"#000000\">value = 96.007</text>\n",
       "</g>\n",
       "<!-- 9&#45;&gt;10 -->\n",
       "<g id=\"edge10\" class=\"edge\">\n",
       "<title>9&#45;&gt;10</title>\n",
       "<path fill=\"none\" stroke=\"#000000\" d=\"M629.8532,-216.5706C671.6822,-221.3706 734.4562,-228.5742 778.4525,-233.623\"/>\n",
       "<polygon fill=\"#000000\" stroke=\"#000000\" points=\"778.3175,-237.1304 788.6514,-234.7933 779.1156,-230.176 778.3175,-237.1304\"/>\n",
       "</g>\n",
       "<!-- 11 -->\n",
       "<g id=\"node12\" class=\"node\">\n",
       "<title>11</title>\n",
       "<polygon fill=\"#e58139\" fill-opacity=\"0.462745\" stroke=\"#000000\" points=\"873.6667,-195 785.6667,-195 785.6667,-142 873.6667,-142 873.6667,-195\"/>\n",
       "<text text-anchor=\"start\" x=\"795.6667\" y=\"-179.8\" font-family=\"Times,serif\" font-size=\"14.00\" fill=\"#000000\">mse = 1295.857</text>\n",
       "<text text-anchor=\"start\" x=\"793.6667\" y=\"-164.8\" font-family=\"Times,serif\" font-size=\"14.00\" fill=\"#000000\">samples = 10128</text>\n",
       "<text text-anchor=\"start\" x=\"798.1667\" y=\"-149.8\" font-family=\"Times,serif\" font-size=\"14.00\" fill=\"#000000\">value = 56.626</text>\n",
       "</g>\n",
       "<!-- 9&#45;&gt;11 -->\n",
       "<g id=\"edge11\" class=\"edge\">\n",
       "<title>9&#45;&gt;11</title>\n",
       "<path fill=\"none\" stroke=\"#000000\" d=\"M629.8532,-203.713C670.7511,-196.5056 731.6721,-185.7695 775.4873,-178.048\"/>\n",
       "<polygon fill=\"#000000\" stroke=\"#000000\" points=\"776.1565,-181.4841 785.3972,-176.3016 774.9415,-174.5903 776.1565,-181.4841\"/>\n",
       "</g>\n",
       "<!-- 13 -->\n",
       "<g id=\"node14\" class=\"node\">\n",
       "<title>13</title>\n",
       "<polygon fill=\"#e58139\" fill-opacity=\"0.345098\" stroke=\"#000000\" points=\"870.6667,-124 788.6667,-124 788.6667,-71 870.6667,-71 870.6667,-124\"/>\n",
       "<text text-anchor=\"start\" x=\"798.1667\" y=\"-108.8\" font-family=\"Times,serif\" font-size=\"14.00\" fill=\"#000000\">mse = 783.462</text>\n",
       "<text text-anchor=\"start\" x=\"796.6667\" y=\"-93.8\" font-family=\"Times,serif\" font-size=\"14.00\" fill=\"#000000\">samples = 1710</text>\n",
       "<text text-anchor=\"start\" x=\"798.1667\" y=\"-78.8\" font-family=\"Times,serif\" font-size=\"14.00\" fill=\"#000000\">value = 46.977</text>\n",
       "</g>\n",
       "<!-- 12&#45;&gt;13 -->\n",
       "<g id=\"edge13\" class=\"edge\">\n",
       "<title>12&#45;&gt;13</title>\n",
       "<path fill=\"none\" stroke=\"#000000\" d=\"M626.782,-97.5C668.4886,-97.5 733.1483,-97.5 778.2255,-97.5\"/>\n",
       "<polygon fill=\"#000000\" stroke=\"#000000\" points=\"778.3827,-101.0001 788.3827,-97.5 778.3827,-94.0001 778.3827,-101.0001\"/>\n",
       "</g>\n",
       "<!-- 14 -->\n",
       "<g id=\"node15\" class=\"node\">\n",
       "<title>14</title>\n",
       "<polygon fill=\"transparent\" stroke=\"#000000\" points=\"870.6667,-53 788.6667,-53 788.6667,0 870.6667,0 870.6667,-53\"/>\n",
       "<text text-anchor=\"start\" x=\"798.1667\" y=\"-37.8\" font-family=\"Times,serif\" font-size=\"14.00\" fill=\"#000000\">mse = 290.318</text>\n",
       "<text text-anchor=\"start\" x=\"796.6667\" y=\"-22.8\" font-family=\"Times,serif\" font-size=\"14.00\" fill=\"#000000\">samples = 7132</text>\n",
       "<text text-anchor=\"start\" x=\"798.1667\" y=\"-7.8\" font-family=\"Times,serif\" font-size=\"14.00\" fill=\"#000000\">value = 18.704</text>\n",
       "</g>\n",
       "<!-- 12&#45;&gt;14 -->\n",
       "<g id=\"edge14\" class=\"edge\">\n",
       "<title>12&#45;&gt;14</title>\n",
       "<path fill=\"none\" stroke=\"#000000\" d=\"M626.782,-85.5361C668.5764,-73.3746 733.4206,-54.506 778.5099,-41.3858\"/>\n",
       "<polygon fill=\"#000000\" stroke=\"#000000\" points=\"779.7589,-44.6676 788.3827,-38.513 777.803,-37.9464 779.7589,-44.6676\"/>\n",
       "</g>\n",
       "</g>\n",
       "</svg>\n"
      ],
      "text/plain": [
       "<graphviz.files.Source at 0x118bfea58>"
      ]
     },
     "metadata": {},
     "output_type": "display_data"
    }
   ],
   "source": [
    "draw_tree(m.estimators_[0], df, precision=3)"
   ]
  },
  {
   "cell_type": "code",
   "execution_count": 17,
   "metadata": {},
   "outputs": [
    {
     "name": "stdout",
     "output_type": "stream",
     "text": [
      "[0.0, 29.969060434610448, 1.0, 0.40229513773551046]\n"
     ]
    }
   ],
   "source": [
    "m = RandomForestRegressor(n_estimators=1, bootstrap=False, n_jobs=-1)\n",
    "m.fit(X_train, y_train)\n",
    "print_score(m)"
   ]
  },
  {
   "cell_type": "code",
   "execution_count": 18,
   "metadata": {},
   "outputs": [
    {
     "name": "stdout",
     "output_type": "stream",
     "text": [
      "[7.766621628651273, 22.141105268256144, 0.9615742397007493, 0.6737585585768247]\n"
     ]
    }
   ],
   "source": [
    "m = RandomForestRegressor(n_jobs=-1)\n",
    "m.fit(X_train, y_train)\n",
    "print_score(m)"
   ]
  },
  {
   "cell_type": "code",
   "execution_count": 19,
   "metadata": {},
   "outputs": [
    {
     "data": {
      "text/plain": [
       "(array([120., 120., 120., 120.,  22.,  84., 120., 119., 120., 120.]),\n",
       " 106.5,\n",
       " 120.0)"
      ]
     },
     "execution_count": 19,
     "metadata": {},
     "output_type": "execute_result"
    }
   ],
   "source": [
    "preds = np.stack([t.predict(X_valid) for t in m.estimators_])\n",
    "preds[:,0], np.mean(preds[:,0]), y_valid[0]"
   ]
  },
  {
   "cell_type": "code",
   "execution_count": 20,
   "metadata": {},
   "outputs": [
    {
     "data": {
      "text/plain": [
       "(10, 60000)"
      ]
     },
     "execution_count": 20,
     "metadata": {},
     "output_type": "execute_result"
    }
   ],
   "source": [
    "preds.shape"
   ]
  },
  {
   "cell_type": "code",
   "execution_count": 21,
   "metadata": {},
   "outputs": [
    {
     "data": {
      "image/png": "[encoded data removed]",
      "text/plain": [
       "<Figure size 432x288 with 1 Axes>"
      ]
     },
     "metadata": {},
     "output_type": "display_data"
    }
   ],
   "source": [
    "plt.plot([metrics.r2_score(y_valid, np.mean(preds[:i+1], axis=0)) for i in range(10)]);"
   ]
  },
  {
   "cell_type": "markdown",
   "metadata": {},
   "source": [
    "## Bagging"
   ]
  },
  {
   "cell_type": "code",
   "execution_count": 22,
   "metadata": {},
   "outputs": [
    {
     "name": "stdout",
     "output_type": "stream",
     "text": [
      "[7.129811936962946, 21.377188061498327, 0.967617205579084, 0.6958823054696659]\n"
     ]
    }
   ],
   "source": [
    "m = RandomForestRegressor(n_estimators=20, n_jobs=-1)\n",
    "m.fit(X_train, y_train)\n",
    "print_score(m)"
   ]
  },
  {
   "cell_type": "code",
   "execution_count": 23,
   "metadata": {},
   "outputs": [
    {
     "name": "stdout",
     "output_type": "stream",
     "text": [
      "[6.774631356721933, 21.26463085638529, 0.9707632220438366, 0.6990764131715541]\n"
     ]
    }
   ],
   "source": [
    "m = RandomForestRegressor(n_estimators=40, n_jobs=-1)\n",
    "m.fit(X_train, y_train)\n",
    "print_score(m)"
   ]
  },
  {
   "cell_type": "code",
   "execution_count": 24,
   "metadata": {},
   "outputs": [
    {
     "name": "stdout",
     "output_type": "stream",
     "text": [
      "[6.59397144573881, 21.084852808305698, 0.9723017521021936, 0.704143114616186]\n"
     ]
    }
   ],
   "source": [
    "m = RandomForestRegressor(n_estimators=80, n_jobs=-1)\n",
    "m.fit(X_train, y_train)\n",
    "print_score(m)"
   ]
  },
  {
   "cell_type": "code",
   "execution_count": 25,
   "metadata": {},
   "outputs": [
    {
     "name": "stdout",
     "output_type": "stream",
     "text": [
      "[6.786915969817286, 21.310862459328497, 0.9706570943076644, 0.6977665100590218, 0.7914118730423415]\n"
     ]
    }
   ],
   "source": [
    "m = RandomForestRegressor(n_estimators=40, n_jobs=-1, oob_score=True)\n",
    "m.fit(X_train, y_train)\n",
    "print_score(m)"
   ]
  },
  {
   "cell_type": "code",
   "execution_count": 26,
   "metadata": {},
   "outputs": [],
   "source": [
    "df_trn, y_trn, nas = proc_df(train, 'RUL')\n",
    "X_train, X_valid = split_vals(df_trn, n_trn)\n",
    "y_train, y_valid = split_vals(y_trn, n_trn)\n",
    "raw_train, raw_valid = split_vals(train, n_trn)"
   ]
  },
  {
   "cell_type": "code",
   "execution_count": 27,
   "metadata": {},
   "outputs": [],
   "source": [
    "set_rf_samples(20000)\n"
   ]
  },
  {
   "cell_type": "markdown",
   "metadata": {},
   "source": [
    "## Out-of-bag (OOB) score"
   ]
  },
  {
   "cell_type": "code",
   "execution_count": 28,
   "metadata": {},
   "outputs": [
    {
     "name": "stdout",
     "output_type": "stream",
     "text": [
      "CPU times: user 9.09 s, sys: 68.3 ms, total: 9.16 s\n",
      "Wall time: 1.9 s\n",
      "[15.337915873046448, 22.971036760088417, 0.8501382235816676, 0.6488426787869568, 0.7802907632187763]\n"
     ]
    }
   ],
   "source": [
    "m = RandomForestRegressor(n_jobs=-1, oob_score=True)\n",
    "%time m.fit(X_train, y_train)\n",
    "print_score(m)"
   ]
  },
  {
   "cell_type": "code",
   "execution_count": 29,
   "metadata": {},
   "outputs": [
    {
     "name": "stdout",
     "output_type": "stream",
     "text": [
      "[14.53130533501843, 22.575263129234322, 0.8654860176853085, 0.6608387901908798, 0.8002569696829978]\n"
     ]
    }
   ],
   "source": [
    "m = RandomForestRegressor(n_estimators=40, n_jobs=-1, oob_score=True)\n",
    "m.fit(X_train, y_train)\n",
    "print_score(m)"
   ]
  },
  {
   "cell_type": "code",
   "execution_count": 30,
   "metadata": {},
   "outputs": [],
   "source": [
    "reset_rf_samples()"
   ]
  },
  {
   "cell_type": "code",
   "execution_count": 31,
   "metadata": {},
   "outputs": [],
   "source": [
    "def dectree_max_depth(tree):\n",
    "    children_left = tree.children_left\n",
    "    children_right = tree.children_right\n",
    "\n",
    "    def walk(node_id):\n",
    "        if (children_left[node_id] != children_right[node_id]):\n",
    "            left_max = 1 + walk(children_left[node_id])\n",
    "            right_max = 1 + walk(children_right[node_id])\n",
    "            return max(left_max, right_max)\n",
    "        else: # leaf\n",
    "            return 1\n",
    "\n",
    "    root_node_id = 0\n",
    "    return walk(root_node_id)"
   ]
  },
  {
   "cell_type": "code",
   "execution_count": 32,
   "metadata": {},
   "outputs": [
    {
     "name": "stdout",
     "output_type": "stream",
     "text": [
      "[6.769413984379743, 21.248842344937287, 0.9708082371630002, 0.6995231053076105, 0.7912216370588899]\n"
     ]
    }
   ],
   "source": [
    "m = RandomForestRegressor(n_estimators=40, n_jobs=-1, oob_score=True)\n",
    "m.fit(X_train, y_train)\n",
    "print_score(m)"
   ]
  },
  {
   "cell_type": "code",
   "execution_count": 33,
   "metadata": {},
   "outputs": [],
   "source": [
    "t=m.estimators_[0].tree_\n"
   ]
  },
  {
   "cell_type": "code",
   "execution_count": 34,
   "metadata": {},
   "outputs": [
    {
     "data": {
      "text/plain": [
       "48"
      ]
     },
     "execution_count": 34,
     "metadata": {},
     "output_type": "execute_result"
    }
   ],
   "source": [
    "dectree_max_depth(t)\n"
   ]
  },
  {
   "cell_type": "markdown",
   "metadata": {},
   "source": [
    "## Hyperparameter Tuning"
   ]
  },
  {
   "cell_type": "code",
   "execution_count": 35,
   "metadata": {},
   "outputs": [
    {
     "name": "stdout",
     "output_type": "stream",
     "text": [
      "[11.14136981897786, 21.754075440901428, 0.9209257004040046, 0.6850643719252019, 0.7984029923372727]\n"
     ]
    }
   ],
   "source": [
    "m = RandomForestRegressor(n_estimators=40, min_samples_leaf=5, n_jobs=-1, oob_score=True)\n",
    "m.fit(X_train, y_train)\n",
    "print_score(m)"
   ]
  },
  {
   "cell_type": "code",
   "execution_count": 36,
   "metadata": {},
   "outputs": [],
   "source": [
    "t=m.estimators_[0].tree_"
   ]
  },
  {
   "cell_type": "code",
   "execution_count": 37,
   "metadata": {},
   "outputs": [
    {
     "data": {
      "text/plain": [
       "42"
      ]
     },
     "execution_count": 37,
     "metadata": {},
     "output_type": "execute_result"
    }
   ],
   "source": [
    "dectree_max_depth(t)\n"
   ]
  },
  {
   "cell_type": "code",
   "execution_count": 38,
   "metadata": {},
   "outputs": [],
   "source": [
    "set_rf_samples(50000)"
   ]
  },
  {
   "cell_type": "code",
   "execution_count": 39,
   "metadata": {},
   "outputs": [
    {
     "name": "stdout",
     "output_type": "stream",
     "text": [
      "[12.442796030982462, 20.846507904523218, 0.9013733827914551, 0.7107940903004636, 0.8052799813584637]\n"
     ]
    }
   ],
   "source": [
    "m = RandomForestRegressor(n_estimators=40, min_samples_leaf=3, max_features=0.5, n_jobs=-1, oob_score=True)\n",
    "m.fit(X_train, y_train)\n",
    "print_score(m)"
   ]
  },
  {
   "cell_type": "markdown",
   "metadata": {},
   "source": [
    "### Using Pararllel Processing"
   ]
  },
  {
   "cell_type": "code",
   "execution_count": 40,
   "metadata": {},
   "outputs": [
    {
     "name": "stdout",
     "output_type": "stream",
     "text": [
      "CPU times: user 668 ms, sys: 42.1 ms, total: 710 ms\n",
      "Wall time: 709 ms\n"
     ]
    },
    {
     "data": {
      "text/plain": [
       "(103.86738095238096, 26.567496099173365)"
      ]
     },
     "execution_count": 40,
     "metadata": {},
     "output_type": "execute_result"
    }
   ],
   "source": [
    "%time preds = np.stack([t.predict(X_valid) for t in m.estimators_])\n",
    "np.mean(preds[:,0]), np.std(preds[:,0])"
   ]
  },
  {
   "cell_type": "code",
   "execution_count": 41,
   "metadata": {},
   "outputs": [
    {
     "name": "stdout",
     "output_type": "stream",
     "text": [
      "CPU times: user 134 ms, sys: 143 ms, total: 277 ms\n",
      "Wall time: 331 ms\n"
     ]
    },
    {
     "data": {
      "text/plain": [
       "(103.86738095238096, 26.567496099173365)"
      ]
     },
     "execution_count": 41,
     "metadata": {},
     "output_type": "execute_result"
    }
   ],
   "source": [
    "def get_preds(t): return t.predict(X_valid)\n",
    "%time preds = np.stack(parallel_trees(m, get_preds))\n",
    "np.mean(preds[:,0]), np.std(preds[:,0])"
   ]
  },
  {
   "cell_type": "markdown",
   "metadata": {},
   "source": [
    "## Feature Importance"
   ]
  },
  {
   "cell_type": "code",
   "execution_count": 43,
   "metadata": {},
   "outputs": [],
   "source": [
    "x = raw_valid.copy()\n",
    "x['pred_std'] = np.std(preds, axis=0)\n",
    "x['pred'] = np.mean(preds, axis=0)\n",
    "#x.s14.value_counts().plot.barh();"
   ]
  },
  {
   "cell_type": "code",
   "execution_count": 46,
   "metadata": {},
   "outputs": [
    {
     "data": {
      "text/html": [
       "<div>\n",
       "<style scoped>\n",
       "    .dataframe tbody tr th:only-of-type {\n",
       "        vertical-align: middle;\n",
       "    }\n",
       "\n",
       "    .dataframe tbody tr th {\n",
       "        vertical-align: top;\n",
       "    }\n",
       "\n",
       "    .dataframe thead th {\n",
       "        text-align: right;\n",
       "    }\n",
       "</style>\n",
       "<table border=\"1\" class=\"dataframe\">\n",
       "  <thead>\n",
       "    <tr style=\"text-align: right;\">\n",
       "      <th></th>\n",
       "      <th>s13</th>\n",
       "      <th>RUL</th>\n",
       "      <th>pred</th>\n",
       "      <th>pred_std</th>\n",
       "    </tr>\n",
       "  </thead>\n",
       "  <tbody>\n",
       "    <tr>\n",
       "      <th>0</th>\n",
       "      <td>-2.393625</td>\n",
       "      <td>3.000000</td>\n",
       "      <td>20.670625</td>\n",
       "      <td>16.110838</td>\n",
       "    </tr>\n",
       "    <tr>\n",
       "      <th>1</th>\n",
       "      <td>-2.393391</td>\n",
       "      <td>4.000000</td>\n",
       "      <td>19.772321</td>\n",
       "      <td>13.653403</td>\n",
       "    </tr>\n",
       "    <tr>\n",
       "      <th>2</th>\n",
       "      <td>-2.393313</td>\n",
       "      <td>2.000000</td>\n",
       "      <td>23.946845</td>\n",
       "      <td>24.618796</td>\n",
       "    </tr>\n",
       "    <tr>\n",
       "      <th>3</th>\n",
       "      <td>-2.392689</td>\n",
       "      <td>0.000000</td>\n",
       "      <td>17.789405</td>\n",
       "      <td>12.854770</td>\n",
       "    </tr>\n",
       "    <tr>\n",
       "      <th>4</th>\n",
       "      <td>-2.392611</td>\n",
       "      <td>2.500000</td>\n",
       "      <td>22.795804</td>\n",
       "      <td>19.793860</td>\n",
       "    </tr>\n",
       "    <tr>\n",
       "      <th>5</th>\n",
       "      <td>-2.392299</td>\n",
       "      <td>19.000000</td>\n",
       "      <td>26.767173</td>\n",
       "      <td>16.716730</td>\n",
       "    </tr>\n",
       "    <tr>\n",
       "      <th>6</th>\n",
       "      <td>-2.392221</td>\n",
       "      <td>6.000000</td>\n",
       "      <td>19.387083</td>\n",
       "      <td>12.290935</td>\n",
       "    </tr>\n",
       "    <tr>\n",
       "      <th>7</th>\n",
       "      <td>-2.392143</td>\n",
       "      <td>5.500000</td>\n",
       "      <td>24.921429</td>\n",
       "      <td>25.719083</td>\n",
       "    </tr>\n",
       "    <tr>\n",
       "      <th>8</th>\n",
       "      <td>-2.392065</td>\n",
       "      <td>3.333333</td>\n",
       "      <td>20.886468</td>\n",
       "      <td>16.027914</td>\n",
       "    </tr>\n",
       "    <tr>\n",
       "      <th>9</th>\n",
       "      <td>-2.391909</td>\n",
       "      <td>4.500000</td>\n",
       "      <td>27.366354</td>\n",
       "      <td>25.231736</td>\n",
       "    </tr>\n",
       "    <tr>\n",
       "      <th>10</th>\n",
       "      <td>-2.391753</td>\n",
       "      <td>15.500000</td>\n",
       "      <td>32.778529</td>\n",
       "      <td>28.427509</td>\n",
       "    </tr>\n",
       "    <tr>\n",
       "      <th>11</th>\n",
       "      <td>-2.391675</td>\n",
       "      <td>13.500000</td>\n",
       "      <td>26.519856</td>\n",
       "      <td>23.271658</td>\n",
       "    </tr>\n",
       "    <tr>\n",
       "      <th>12</th>\n",
       "      <td>-2.391597</td>\n",
       "      <td>10.500000</td>\n",
       "      <td>23.504948</td>\n",
       "      <td>17.050713</td>\n",
       "    </tr>\n",
       "    <tr>\n",
       "      <th>13</th>\n",
       "      <td>-2.391519</td>\n",
       "      <td>11.000000</td>\n",
       "      <td>22.360179</td>\n",
       "      <td>17.174043</td>\n",
       "    </tr>\n",
       "    <tr>\n",
       "      <th>14</th>\n",
       "      <td>-2.391441</td>\n",
       "      <td>23.750000</td>\n",
       "      <td>47.591124</td>\n",
       "      <td>24.708381</td>\n",
       "    </tr>\n",
       "    <tr>\n",
       "      <th>15</th>\n",
       "      <td>-2.391363</td>\n",
       "      <td>28.000000</td>\n",
       "      <td>39.824767</td>\n",
       "      <td>18.376001</td>\n",
       "    </tr>\n",
       "    <tr>\n",
       "      <th>16</th>\n",
       "      <td>-2.391285</td>\n",
       "      <td>10.500000</td>\n",
       "      <td>20.856265</td>\n",
       "      <td>16.706966</td>\n",
       "    </tr>\n",
       "    <tr>\n",
       "      <th>17</th>\n",
       "      <td>-2.391207</td>\n",
       "      <td>14.250000</td>\n",
       "      <td>22.985022</td>\n",
       "      <td>16.249607</td>\n",
       "    </tr>\n",
       "    <tr>\n",
       "      <th>18</th>\n",
       "      <td>-2.391129</td>\n",
       "      <td>12.000000</td>\n",
       "      <td>30.066448</td>\n",
       "      <td>19.597324</td>\n",
       "    </tr>\n",
       "    <tr>\n",
       "      <th>19</th>\n",
       "      <td>-2.391051</td>\n",
       "      <td>16.500000</td>\n",
       "      <td>26.402753</td>\n",
       "      <td>24.754913</td>\n",
       "    </tr>\n",
       "    <tr>\n",
       "      <th>20</th>\n",
       "      <td>-2.390973</td>\n",
       "      <td>14.833333</td>\n",
       "      <td>24.484635</td>\n",
       "      <td>21.830173</td>\n",
       "    </tr>\n",
       "    <tr>\n",
       "      <th>21</th>\n",
       "      <td>-2.390895</td>\n",
       "      <td>43.400000</td>\n",
       "      <td>62.472722</td>\n",
       "      <td>33.196103</td>\n",
       "    </tr>\n",
       "    <tr>\n",
       "      <th>22</th>\n",
       "      <td>-2.390817</td>\n",
       "      <td>26.500000</td>\n",
       "      <td>36.246748</td>\n",
       "      <td>19.650104</td>\n",
       "    </tr>\n",
       "    <tr>\n",
       "      <th>23</th>\n",
       "      <td>-2.390739</td>\n",
       "      <td>11.000000</td>\n",
       "      <td>23.431438</td>\n",
       "      <td>20.075406</td>\n",
       "    </tr>\n",
       "    <tr>\n",
       "      <th>24</th>\n",
       "      <td>-2.390661</td>\n",
       "      <td>60.937500</td>\n",
       "      <td>71.765394</td>\n",
       "      <td>28.110050</td>\n",
       "    </tr>\n",
       "    <tr>\n",
       "      <th>25</th>\n",
       "      <td>-2.390583</td>\n",
       "      <td>64.277778</td>\n",
       "      <td>67.963080</td>\n",
       "      <td>25.885671</td>\n",
       "    </tr>\n",
       "    <tr>\n",
       "      <th>26</th>\n",
       "      <td>-2.390505</td>\n",
       "      <td>63.941176</td>\n",
       "      <td>62.443938</td>\n",
       "      <td>26.086147</td>\n",
       "    </tr>\n",
       "    <tr>\n",
       "      <th>27</th>\n",
       "      <td>-2.390427</td>\n",
       "      <td>68.478261</td>\n",
       "      <td>63.705974</td>\n",
       "      <td>27.793797</td>\n",
       "    </tr>\n",
       "    <tr>\n",
       "      <th>28</th>\n",
       "      <td>-2.390349</td>\n",
       "      <td>72.000000</td>\n",
       "      <td>65.997963</td>\n",
       "      <td>27.762444</td>\n",
       "    </tr>\n",
       "    <tr>\n",
       "      <th>29</th>\n",
       "      <td>-2.390271</td>\n",
       "      <td>81.555556</td>\n",
       "      <td>74.549450</td>\n",
       "      <td>26.626335</td>\n",
       "    </tr>\n",
       "    <tr>\n",
       "      <th>...</th>\n",
       "      <td>...</td>\n",
       "      <td>...</td>\n",
       "      <td>...</td>\n",
       "      <td>...</td>\n",
       "    </tr>\n",
       "    <tr>\n",
       "      <th>449</th>\n",
       "      <td>0.431149</td>\n",
       "      <td>12.000000</td>\n",
       "      <td>26.369554</td>\n",
       "      <td>23.245238</td>\n",
       "    </tr>\n",
       "    <tr>\n",
       "      <th>450</th>\n",
       "      <td>0.431227</td>\n",
       "      <td>13.500000</td>\n",
       "      <td>15.792619</td>\n",
       "      <td>15.575067</td>\n",
       "    </tr>\n",
       "    <tr>\n",
       "      <th>451</th>\n",
       "      <td>0.431305</td>\n",
       "      <td>10.000000</td>\n",
       "      <td>8.198869</td>\n",
       "      <td>9.636855</td>\n",
       "    </tr>\n",
       "    <tr>\n",
       "      <th>452</th>\n",
       "      <td>0.431383</td>\n",
       "      <td>10.250000</td>\n",
       "      <td>14.575951</td>\n",
       "      <td>16.155775</td>\n",
       "    </tr>\n",
       "    <tr>\n",
       "      <th>453</th>\n",
       "      <td>0.431461</td>\n",
       "      <td>10.000000</td>\n",
       "      <td>11.274792</td>\n",
       "      <td>11.344848</td>\n",
       "    </tr>\n",
       "    <tr>\n",
       "      <th>454</th>\n",
       "      <td>0.431539</td>\n",
       "      <td>1.000000</td>\n",
       "      <td>20.397929</td>\n",
       "      <td>26.168305</td>\n",
       "    </tr>\n",
       "    <tr>\n",
       "      <th>455</th>\n",
       "      <td>0.431617</td>\n",
       "      <td>7.000000</td>\n",
       "      <td>21.424802</td>\n",
       "      <td>24.144601</td>\n",
       "    </tr>\n",
       "    <tr>\n",
       "      <th>456</th>\n",
       "      <td>0.431695</td>\n",
       "      <td>0.000000</td>\n",
       "      <td>7.041250</td>\n",
       "      <td>11.433659</td>\n",
       "    </tr>\n",
       "    <tr>\n",
       "      <th>457</th>\n",
       "      <td>0.431929</td>\n",
       "      <td>18.000000</td>\n",
       "      <td>16.473988</td>\n",
       "      <td>11.243364</td>\n",
       "    </tr>\n",
       "    <tr>\n",
       "      <th>458</th>\n",
       "      <td>0.432007</td>\n",
       "      <td>8.000000</td>\n",
       "      <td>15.204881</td>\n",
       "      <td>10.011912</td>\n",
       "    </tr>\n",
       "    <tr>\n",
       "      <th>459</th>\n",
       "      <td>0.432241</td>\n",
       "      <td>8.000000</td>\n",
       "      <td>21.891597</td>\n",
       "      <td>24.561521</td>\n",
       "    </tr>\n",
       "    <tr>\n",
       "      <th>460</th>\n",
       "      <td>0.432319</td>\n",
       "      <td>15.000000</td>\n",
       "      <td>18.940863</td>\n",
       "      <td>20.651804</td>\n",
       "    </tr>\n",
       "    <tr>\n",
       "      <th>461</th>\n",
       "      <td>0.432397</td>\n",
       "      <td>2.000000</td>\n",
       "      <td>20.985337</td>\n",
       "      <td>24.346191</td>\n",
       "    </tr>\n",
       "    <tr>\n",
       "      <th>462</th>\n",
       "      <td>0.432475</td>\n",
       "      <td>7.500000</td>\n",
       "      <td>8.081057</td>\n",
       "      <td>10.164839</td>\n",
       "    </tr>\n",
       "    <tr>\n",
       "      <th>463</th>\n",
       "      <td>0.432553</td>\n",
       "      <td>6.000000</td>\n",
       "      <td>6.898333</td>\n",
       "      <td>9.359273</td>\n",
       "    </tr>\n",
       "    <tr>\n",
       "      <th>464</th>\n",
       "      <td>0.432709</td>\n",
       "      <td>3.000000</td>\n",
       "      <td>7.029881</td>\n",
       "      <td>9.615770</td>\n",
       "    </tr>\n",
       "    <tr>\n",
       "      <th>465</th>\n",
       "      <td>0.432787</td>\n",
       "      <td>8.500000</td>\n",
       "      <td>11.670610</td>\n",
       "      <td>14.367214</td>\n",
       "    </tr>\n",
       "    <tr>\n",
       "      <th>466</th>\n",
       "      <td>0.432865</td>\n",
       "      <td>4.500000</td>\n",
       "      <td>13.086682</td>\n",
       "      <td>16.279674</td>\n",
       "    </tr>\n",
       "    <tr>\n",
       "      <th>467</th>\n",
       "      <td>0.433099</td>\n",
       "      <td>6.000000</td>\n",
       "      <td>16.446071</td>\n",
       "      <td>21.957842</td>\n",
       "    </tr>\n",
       "    <tr>\n",
       "      <th>468</th>\n",
       "      <td>0.433333</td>\n",
       "      <td>6.000000</td>\n",
       "      <td>15.632361</td>\n",
       "      <td>17.409990</td>\n",
       "    </tr>\n",
       "    <tr>\n",
       "      <th>469</th>\n",
       "      <td>0.433411</td>\n",
       "      <td>2.500000</td>\n",
       "      <td>6.619286</td>\n",
       "      <td>9.841258</td>\n",
       "    </tr>\n",
       "    <tr>\n",
       "      <th>470</th>\n",
       "      <td>0.433723</td>\n",
       "      <td>3.000000</td>\n",
       "      <td>8.672500</td>\n",
       "      <td>12.108322</td>\n",
       "    </tr>\n",
       "    <tr>\n",
       "      <th>471</th>\n",
       "      <td>0.433801</td>\n",
       "      <td>1.500000</td>\n",
       "      <td>7.805149</td>\n",
       "      <td>10.744453</td>\n",
       "    </tr>\n",
       "    <tr>\n",
       "      <th>472</th>\n",
       "      <td>0.433879</td>\n",
       "      <td>2.000000</td>\n",
       "      <td>6.137083</td>\n",
       "      <td>9.288527</td>\n",
       "    </tr>\n",
       "    <tr>\n",
       "      <th>473</th>\n",
       "      <td>0.433957</td>\n",
       "      <td>4.500000</td>\n",
       "      <td>8.355655</td>\n",
       "      <td>10.779117</td>\n",
       "    </tr>\n",
       "    <tr>\n",
       "      <th>474</th>\n",
       "      <td>0.434347</td>\n",
       "      <td>4.500000</td>\n",
       "      <td>6.922798</td>\n",
       "      <td>9.142913</td>\n",
       "    </tr>\n",
       "    <tr>\n",
       "      <th>475</th>\n",
       "      <td>0.434737</td>\n",
       "      <td>1.500000</td>\n",
       "      <td>12.223973</td>\n",
       "      <td>16.482280</td>\n",
       "    </tr>\n",
       "    <tr>\n",
       "      <th>476</th>\n",
       "      <td>0.434815</td>\n",
       "      <td>6.000000</td>\n",
       "      <td>7.217083</td>\n",
       "      <td>11.814436</td>\n",
       "    </tr>\n",
       "    <tr>\n",
       "      <th>477</th>\n",
       "      <td>0.435674</td>\n",
       "      <td>1.000000</td>\n",
       "      <td>14.891994</td>\n",
       "      <td>15.237340</td>\n",
       "    </tr>\n",
       "    <tr>\n",
       "      <th>478</th>\n",
       "      <td>0.437312</td>\n",
       "      <td>2.000000</td>\n",
       "      <td>15.439613</td>\n",
       "      <td>20.845526</td>\n",
       "    </tr>\n",
       "  </tbody>\n",
       "</table>\n",
       "<p>479 rows × 4 columns</p>\n",
       "</div>"
      ],
      "text/plain": [
       "          s13        RUL       pred   pred_std\n",
       "0   -2.393625   3.000000  20.670625  16.110838\n",
       "1   -2.393391   4.000000  19.772321  13.653403\n",
       "2   -2.393313   2.000000  23.946845  24.618796\n",
       "3   -2.392689   0.000000  17.789405  12.854770\n",
       "4   -2.392611   2.500000  22.795804  19.793860\n",
       "5   -2.392299  19.000000  26.767173  16.716730\n",
       "6   -2.392221   6.000000  19.387083  12.290935\n",
       "7   -2.392143   5.500000  24.921429  25.719083\n",
       "8   -2.392065   3.333333  20.886468  16.027914\n",
       "9   -2.391909   4.500000  27.366354  25.231736\n",
       "10  -2.391753  15.500000  32.778529  28.427509\n",
       "11  -2.391675  13.500000  26.519856  23.271658\n",
       "12  -2.391597  10.500000  23.504948  17.050713\n",
       "13  -2.391519  11.000000  22.360179  17.174043\n",
       "14  -2.391441  23.750000  47.591124  24.708381\n",
       "15  -2.391363  28.000000  39.824767  18.376001\n",
       "16  -2.391285  10.500000  20.856265  16.706966\n",
       "17  -2.391207  14.250000  22.985022  16.249607\n",
       "18  -2.391129  12.000000  30.066448  19.597324\n",
       "19  -2.391051  16.500000  26.402753  24.754913\n",
       "20  -2.390973  14.833333  24.484635  21.830173\n",
       "21  -2.390895  43.400000  62.472722  33.196103\n",
       "22  -2.390817  26.500000  36.246748  19.650104\n",
       "23  -2.390739  11.000000  23.431438  20.075406\n",
       "24  -2.390661  60.937500  71.765394  28.110050\n",
       "25  -2.390583  64.277778  67.963080  25.885671\n",
       "26  -2.390505  63.941176  62.443938  26.086147\n",
       "27  -2.390427  68.478261  63.705974  27.793797\n",
       "28  -2.390349  72.000000  65.997963  27.762444\n",
       "29  -2.390271  81.555556  74.549450  26.626335\n",
       "..        ...        ...        ...        ...\n",
       "449  0.431149  12.000000  26.369554  23.245238\n",
       "450  0.431227  13.500000  15.792619  15.575067\n",
       "451  0.431305  10.000000   8.198869   9.636855\n",
       "452  0.431383  10.250000  14.575951  16.155775\n",
       "453  0.431461  10.000000  11.274792  11.344848\n",
       "454  0.431539   1.000000  20.397929  26.168305\n",
       "455  0.431617   7.000000  21.424802  24.144601\n",
       "456  0.431695   0.000000   7.041250  11.433659\n",
       "457  0.431929  18.000000  16.473988  11.243364\n",
       "458  0.432007   8.000000  15.204881  10.011912\n",
       "459  0.432241   8.000000  21.891597  24.561521\n",
       "460  0.432319  15.000000  18.940863  20.651804\n",
       "461  0.432397   2.000000  20.985337  24.346191\n",
       "462  0.432475   7.500000   8.081057  10.164839\n",
       "463  0.432553   6.000000   6.898333   9.359273\n",
       "464  0.432709   3.000000   7.029881   9.615770\n",
       "465  0.432787   8.500000  11.670610  14.367214\n",
       "466  0.432865   4.500000  13.086682  16.279674\n",
       "467  0.433099   6.000000  16.446071  21.957842\n",
       "468  0.433333   6.000000  15.632361  17.409990\n",
       "469  0.433411   2.500000   6.619286   9.841258\n",
       "470  0.433723   3.000000   8.672500  12.108322\n",
       "471  0.433801   1.500000   7.805149  10.744453\n",
       "472  0.433879   2.000000   6.137083   9.288527\n",
       "473  0.433957   4.500000   8.355655  10.779117\n",
       "474  0.434347   4.500000   6.922798   9.142913\n",
       "475  0.434737   1.500000  12.223973  16.482280\n",
       "476  0.434815   6.000000   7.217083  11.814436\n",
       "477  0.435674   1.000000  14.891994  15.237340\n",
       "478  0.437312   2.000000  15.439613  20.845526\n",
       "\n",
       "[479 rows x 4 columns]"
      ]
     },
     "execution_count": 46,
     "metadata": {},
     "output_type": "execute_result"
    }
   ],
   "source": [
    "flds = ['s13', 'RUL', 'pred', 'pred_std']\n",
    "enc_summ = x[flds].groupby('s13', as_index=False).mean()\n",
    "enc_summ"
   ]
  },
  {
   "cell_type": "code",
   "execution_count": 45,
   "metadata": {},
   "outputs": [
    {
     "data": {
      "text/html": [
       "<div>\n",
       "<style scoped>\n",
       "    .dataframe tbody tr th:only-of-type {\n",
       "        vertical-align: middle;\n",
       "    }\n",
       "\n",
       "    .dataframe tbody tr th {\n",
       "        vertical-align: top;\n",
       "    }\n",
       "\n",
       "    .dataframe thead th {\n",
       "        text-align: right;\n",
       "    }\n",
       "</style>\n",
       "<table border=\"1\" class=\"dataframe\">\n",
       "  <thead>\n",
       "    <tr style=\"text-align: right;\">\n",
       "      <th></th>\n",
       "      <th>cols</th>\n",
       "      <th>imp</th>\n",
       "    </tr>\n",
       "  </thead>\n",
       "  <tbody>\n",
       "    <tr>\n",
       "      <th>15</th>\n",
       "      <td>s13</td>\n",
       "      <td>0.218842</td>\n",
       "    </tr>\n",
       "    <tr>\n",
       "      <th>13</th>\n",
       "      <td>s11</td>\n",
       "      <td>0.192393</td>\n",
       "    </tr>\n",
       "    <tr>\n",
       "      <th>16</th>\n",
       "      <td>s14</td>\n",
       "      <td>0.094784</td>\n",
       "    </tr>\n",
       "    <tr>\n",
       "      <th>17</th>\n",
       "      <td>s15</td>\n",
       "      <td>0.082519</td>\n",
       "    </tr>\n",
       "    <tr>\n",
       "      <th>6</th>\n",
       "      <td>s4</td>\n",
       "      <td>0.077462</td>\n",
       "    </tr>\n",
       "    <tr>\n",
       "      <th>11</th>\n",
       "      <td>s9</td>\n",
       "      <td>0.061859</td>\n",
       "    </tr>\n",
       "    <tr>\n",
       "      <th>10</th>\n",
       "      <td>s8</td>\n",
       "      <td>0.045054</td>\n",
       "    </tr>\n",
       "    <tr>\n",
       "      <th>14</th>\n",
       "      <td>s12</td>\n",
       "      <td>0.039559</td>\n",
       "    </tr>\n",
       "    <tr>\n",
       "      <th>9</th>\n",
       "      <td>s7</td>\n",
       "      <td>0.032844</td>\n",
       "    </tr>\n",
       "    <tr>\n",
       "      <th>23</th>\n",
       "      <td>s21</td>\n",
       "      <td>0.022967</td>\n",
       "    </tr>\n",
       "  </tbody>\n",
       "</table>\n",
       "</div>"
      ],
      "text/plain": [
       "   cols       imp\n",
       "15  s13  0.218842\n",
       "13  s11  0.192393\n",
       "16  s14  0.094784\n",
       "17  s15  0.082519\n",
       "6    s4  0.077462\n",
       "11   s9  0.061859\n",
       "10   s8  0.045054\n",
       "14  s12  0.039559\n",
       "9    s7  0.032844\n",
       "23  s21  0.022967"
      ]
     },
     "execution_count": 45,
     "metadata": {},
     "output_type": "execute_result"
    }
   ],
   "source": [
    "fi = rf_feat_importance(m, df); fi[:10]\n"
   ]
  },
  {
   "cell_type": "code",
   "execution_count": 47,
   "metadata": {},
   "outputs": [
    {
     "data": {
      "image/png": "[encoded data removed]",
      "text/plain": [
       "<Figure size 720x432 with 1 Axes>"
      ]
     },
     "metadata": {},
     "output_type": "display_data"
    }
   ],
   "source": [
    "fi.plot('cols', 'imp', figsize=(10,6), legend=False);"
   ]
  },
  {
   "cell_type": "code",
   "execution_count": 48,
   "metadata": {},
   "outputs": [],
   "source": [
    "def plot_fi(fi): return fi.plot('cols', 'imp', 'barh', figsize=(12,7), legend=False)"
   ]
  },
  {
   "cell_type": "code",
   "execution_count": 49,
   "metadata": {},
   "outputs": [
    {
     "data": {
      "image/png": "[encoded data removed]",
      "text/plain": [
       "<Figure size 864x504 with 1 Axes>"
      ]
     },
     "metadata": {},
     "output_type": "display_data"
    }
   ],
   "source": [
    "plot_fi(fi[:20]);\n"
   ]
  },
  {
   "cell_type": "code",
   "execution_count": 50,
   "metadata": {},
   "outputs": [
    {
     "data": {
      "text/plain": [
       "19"
      ]
     },
     "execution_count": 50,
     "metadata": {},
     "output_type": "execute_result"
    }
   ],
   "source": [
    "to_keep = fi[fi.imp>0.005].cols; len(to_keep)\n"
   ]
  },
  {
   "cell_type": "code",
   "execution_count": 51,
   "metadata": {},
   "outputs": [],
   "source": [
    "df_keep = df_trn[to_keep].copy()\n",
    "X_train, X_valid = split_vals(df_keep, n_trn)"
   ]
  },
  {
   "cell_type": "code",
   "execution_count": 52,
   "metadata": {},
   "outputs": [
    {
     "name": "stdout",
     "output_type": "stream",
     "text": [
      "[12.481081423672913, 21.243082960216224, 0.9007655181431534, 0.699685968533612, 0.8052907331135615]\n"
     ]
    }
   ],
   "source": [
    "m = RandomForestRegressor(n_estimators=40, min_samples_leaf=3, max_features=0.5,\n",
    "                          n_jobs=-1, oob_score=True)\n",
    "m.fit(X_train, y_train)\n",
    "print_score(m)"
   ]
  },
  {
   "cell_type": "code",
   "execution_count": 53,
   "metadata": {},
   "outputs": [
    {
     "data": {
      "image/png": "[encoded data removed]",
      "text/plain": [
       "<Figure size 864x504 with 1 Axes>"
      ]
     },
     "metadata": {},
     "output_type": "display_data"
    }
   ],
   "source": [
    "fi = rf_feat_importance(m, df_keep)\n",
    "plot_fi(fi);"
   ]
  },
  {
   "cell_type": "markdown",
   "metadata": {},
   "source": [
    "## Hierachical Clustering"
   ]
  },
  {
   "cell_type": "code",
   "execution_count": 54,
   "metadata": {},
   "outputs": [],
   "source": [
    "from scipy.cluster import hierarchy as hc"
   ]
  },
  {
   "cell_type": "code",
   "execution_count": 55,
   "metadata": {},
   "outputs": [
    {
     "data": {
      "image/png": "[encoded data removed]",
      "text/plain": [
       "<Figure size 1152x720 with 1 Axes>"
      ]
     },
     "metadata": {},
     "output_type": "display_data"
    }
   ],
   "source": [
    "corr = np.round(scipy.stats.spearmanr(df_keep).correlation, 4)\n",
    "corr_condensed = hc.distance.squareform(1-corr)\n",
    "z = hc.linkage(corr_condensed, method='average')\n",
    "fig = plt.figure(figsize=(16,10))\n",
    "dendrogram = hc.dendrogram(z, labels=df_keep.columns, orientation='left', leaf_font_size=16)\n",
    "plt.show()"
   ]
  },
  {
   "cell_type": "code",
   "execution_count": 56,
   "metadata": {},
   "outputs": [],
   "source": [
    "def get_oob(df):\n",
    "    m = RandomForestRegressor(n_estimators=30, min_samples_leaf=5, max_features=0.6, n_jobs=-1, oob_score=True)\n",
    "    x, _ = split_vals(df, n_trn)\n",
    "    m.fit(x, y_train)\n",
    "    return m.oob_score_"
   ]
  },
  {
   "cell_type": "code",
   "execution_count": 58,
   "metadata": {},
   "outputs": [
    {
     "data": {
      "text/plain": [
       "0.8039038221105511"
      ]
     },
     "execution_count": 58,
     "metadata": {},
     "output_type": "execute_result"
    }
   ],
   "source": [
    "get_oob(df_keep)"
   ]
  },
  {
   "cell_type": "code",
   "execution_count": 66,
   "metadata": {},
   "outputs": [
    {
     "name": "stdout",
     "output_type": "stream",
     "text": [
      "s7 0.8029662438737941\n",
      "s12 0.8028893609794443\n",
      "s4 0.8011004575197649\n",
      "s11 0.7959989290383847\n",
      "s20 0.803921659958277\n",
      "s21 0.8039582051638009\n",
      "s2 0.8029123534396738\n",
      "s8 0.8023254209770301\n"
     ]
    }
   ],
   "source": [
    "for c in ('s7', 's12', 's4', 's11', 's20', 's21','s2','s8'):\n",
    "    print(c, get_oob(df_keep.drop(c, axis=1)))"
   ]
  },
  {
   "cell_type": "code",
   "execution_count": 67,
   "metadata": {},
   "outputs": [
    {
     "data": {
      "text/plain": [
       "0.7979958762786963"
      ]
     },
     "execution_count": 67,
     "metadata": {},
     "output_type": "execute_result"
    }
   ],
   "source": [
    "to_drop = ['s17', 's4', 's2']\n",
    "get_oob(df_keep.drop(to_drop, axis=1))"
   ]
  },
  {
   "cell_type": "markdown",
   "metadata": {},
   "source": [
    "# Summary\n",
    "* Our best model can predict the remaining useful life (RUL) of the turbofan engine with an accuracy of 80%.\n",
    "\n",
    "# Future Work\n",
    "* Try using neural net with embedding matrices to see if we can get a better accuracy.\n"
   ]
  },
  {
   "cell_type": "code",
   "execution_count": null,
   "metadata": {},
   "outputs": [],
   "source": []
  }
 ],
 "metadata": {
  "kernelspec": {
   "display_name": "Python 3",
   "language": "python",
   "name": "python3"
  },
  "language_info": {
   "codemirror_mode": {
    "name": "ipython",
    "version": 3
   },
   "file_extension": ".py",
   "mimetype": "text/x-python",
   "name": "python",
   "nbconvert_exporter": "python",
   "pygments_lexer": "ipython3",
   "version": "3.6.7"
  },
  "toc": {
   "base_numbering": 1,
   "nav_menu": {},
   "number_sections": true,
   "sideBar": true,
   "skip_h1_title": false,
   "title_cell": "Table of Contents",
   "title_sidebar": "Contents",
   "toc_cell": false,
   "toc_position": {},
   "toc_section_display": true,
   "toc_window_display": true
  }
 },
 "nbformat": 4,
 "nbformat_minor": 2
}
